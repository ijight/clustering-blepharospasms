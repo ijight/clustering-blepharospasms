{
 "cells": [
  {
   "cell_type": "code",
   "execution_count": null,
   "metadata": {},
   "outputs": [],
   "source": [
    "# display heatmap from distance matrix\n",
    "\n",
    "import seaborn as sns\n",
    "import numpy as np\n",
    "\n",
    "# Generate a random symmetric distance matrix\n",
    "np.random.seed(42)\n",
    "distance_matrix = np.random.rand(10, 10)\n",
    "distance_matrix = (distance_matrix + distance_matrix.T) / 2\n",
    "\n",
    "# Create heatmap using seaborn\n",
    "sns.heatmap(distance_matrix, cmap=\"YlGnBu\")\n",
    "\n",
    "# Show the plot\n",
    "plt.show()"
   ]
  },
  {
   "cell_type": "code",
   "execution_count": null,
   "metadata": {},
   "outputs": [],
   "source": [
    "# display stacked timeseries\n",
    "\n",
    "import matplotlib.pyplot as plt\n",
    "\n",
    "# Extract 6 segments\n",
    "segments_to_plot = SEGMENTS[:6]\n",
    "\n",
    "# Set up figure and axes\n",
    "fig, axs = plt.subplots(nrows=len(segments_to_plot), sharex=True, figsize=(10, 12))\n",
    "\n",
    "# Set up y-axis label\n",
    "fig.text(0.04, 0.5, 'Amplitude', va='center', rotation='vertical', color='white')\n",
    "\n",
    "# Plot each segment on a separate subplot\n",
    "for i, segment in enumerate(segments_to_plot):\n",
    "    x = range(len(segment))\n",
    "    axs[i].plot(x, segment, linewidth=2, label=f'Segment {i+1}', color='blue')\n",
    "    axs[i].set_title(f'Segment {i+1}', color='white')\n",
    "\n",
    "# Add legend\n",
    "fig.legend(facecolor='black', edgecolor='white', loc='lower center')\n",
    "\n",
    "# Set background color\n",
    "fig.patch.set_facecolor('black')\n",
    "\n",
    "# Display the plot\n",
    "plt.show()\n"
   ]
  },
  {
   "cell_type": "code",
   "execution_count": null,
   "metadata": {},
   "outputs": [],
   "source": [
    "for i, graph in enumerate(graphs):\n",
    "    plt.figure()\n",
    "    nx.draw(graph, with_labels=True)\n",
    "    # save plot as PNG file\n",
    "    plt.savefig(f\"graphs/graph_{i}.png\")\n",
    "    plt.close()\n",
    "\n",
    "import networkx as nx\n",
    "import matplotlib.pyplot as plt\n",
    "\n",
    "# Loop through the first 6 visibility graphs\n",
    "for i, graph in enumerate(graphs[:6]):\n",
    "    \n",
    "    # Draw the graph\n",
    "    plt.figure()\n",
    "    nx.draw(graph, node_color='black', edge_color='black', with_labels=False, font_color='white', node_size=100)\n",
    "    plt.gca().set_facecolor('white')\n",
    "\n",
    "    # Save the plot as a PNG file\n",
    "    plt.savefig(f\"graphs/graph_{i}.png\", transparent=True)\n",
    "    plt.close()\n"
   ]
  }
 ],
 "metadata": {
  "language_info": {
   "name": "python"
  },
  "orig_nbformat": 4
 },
 "nbformat": 4,
 "nbformat_minor": 2
}
